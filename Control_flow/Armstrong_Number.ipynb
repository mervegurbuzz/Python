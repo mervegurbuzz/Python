{
 "cells": [
  {
   "cell_type": "markdown",
   "metadata": {},
   "source": [
    "Task:\n",
    "\n",
    "Find out if a given number is an \"Armstrong Number\".\n",
    "\n",
    "An n-digit number that is the sum of the nth powers of its digits is called an n-Armstrong number. Examples :\n",
    "371 = 3^3 + 7^3 + 1^3;\n",
    "9474 = 9^4 + 4^4 + 7^4 + 4^4;\n",
    "93084 = 9^5 + 3^5 + 0^5 + 8^5 + 4^5.\n",
    "\n",
    "Write a Python program that;\n",
    "takes a positive integer number from the user,\n",
    "checks the entered number if it is Armstrong,\n",
    "consider the negative, float and any entries other than numeric values then display a warning message to the user.\n"
   ]
  },
  {
   "cell_type": "code",
   "execution_count": 1,
   "metadata": {},
   "outputs": [
    {
     "name": "stdout",
     "output_type": "stream",
     "text": [
      "Enter positive integer number: 4679307774\n",
      "4679307774 is an Armstrong number\n"
     ]
    }
   ],
   "source": [
    "number = int(input(\"Enter positive integer number: \"))\n",
    "sum=0\n",
    "digit_num  = 0\n",
    "\n",
    "temp = number\n",
    "while temp > 0:\n",
    "           digit_num += 1\n",
    "           temp = temp // 10\n",
    "\n",
    "# Finding Armstrong Number\n",
    "temp = number\n",
    "while temp > 0:\n",
    "           reminder = temp % 10\n",
    "           sum = sum + (reminder ** digit_num)\n",
    "           temp //= 10\n",
    "if type(number) == int and number > 0:\n",
    "    if number == sum:\n",
    "        print(number, \"is an Armstrong number\")\n",
    "    else: \n",
    "        print(number, \"is not an Armstrong number\")\n",
    "else:\n",
    "    print(\"It is an invalid entry. Don't use non-numeric, float, or negative values!\")\n"
   ]
  },
  {
   "cell_type": "code",
   "execution_count": null,
   "metadata": {},
   "outputs": [],
   "source": []
  },
  {
   "cell_type": "code",
   "execution_count": null,
   "metadata": {},
   "outputs": [],
   "source": []
  }
 ],
 "metadata": {
  "kernelspec": {
   "display_name": "Python 3",
   "language": "python",
   "name": "python3"
  },
  "language_info": {
   "codemirror_mode": {
    "name": "ipython",
    "version": 3
   },
   "file_extension": ".py",
   "mimetype": "text/x-python",
   "name": "python",
   "nbconvert_exporter": "python",
   "pygments_lexer": "ipython3",
   "version": "3.7.6"
  }
 },
 "nbformat": 4,
 "nbformat_minor": 4
}
