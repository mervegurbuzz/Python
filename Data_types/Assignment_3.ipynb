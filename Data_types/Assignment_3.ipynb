{
 "cells": [
  {
   "cell_type": "markdown",
   "metadata": {},
   "source": [
    "Task-1:\n",
    "\n",
    "Write a short Python program that asks the user to enter Celsius temperature (it can be a decimal number), converts the entered temperature into Fahrenheit degree and prints the result.\n"
   ]
  },
  {
   "cell_type": "code",
   "execution_count": 1,
   "metadata": {},
   "outputs": [
    {
     "name": "stdout",
     "output_type": "stream",
     "text": [
      "Enter temperature in Celsius: 35\n",
      "Celsius Temperature: 35.0 Fahrenheit Temperature: 95.0\n"
     ]
    }
   ],
   "source": [
    "Celsius = float(input(\"Enter temperature in Celsius: \"))\n",
    "\n",
    "Fahrenheit = 9/5 * Celsius + 32\n",
    "\n",
    "print(\"Celsius Temperature:\", Celsius, \"Fahrenheit Temperature:\", Fahrenheit)"
   ]
  },
  {
   "cell_type": "code",
   "execution_count": 2,
   "metadata": {},
   "outputs": [
    {
     "name": "stdout",
     "output_type": "stream",
     "text": [
      "Celsius Temperature: 36.0 \n",
      "Fahrenheit Temperature: 96.8\n"
     ]
    }
   ],
   "source": [
    "Celsius = 36.0\n",
    "\n",
    "Fahrenheit = 9/5 * Celsius + 32\n",
    "\n",
    "print(\"Celsius Temperature:\", Celsius, \"\\n\" \"Fahrenheit Temperature:\", Fahrenheit)"
   ]
  },
  {
   "cell_type": "markdown",
   "metadata": {},
   "source": [
    "Task-2: Write a short Python program that asks the user to enter a distance (it can be a decimal number) in kilometers, converts the entered distance into miles and prints the result."
   ]
  },
  {
   "cell_type": "code",
   "execution_count": 3,
   "metadata": {},
   "outputs": [
    {
     "name": "stdout",
     "output_type": "stream",
     "text": [
      "Enter distance in kilometers:45\n",
      "Distance in kilometers: 45.0 Distance in miles: 27.961695\n"
     ]
    }
   ],
   "source": [
    "kilometers = float(input(\"Enter distance in kilometers:\"))\n",
    "\n",
    "miles = kilometers * 0.621371\n",
    "\n",
    "print(\"Distance in kilometers:\", kilometers, \"Distance in miles:\", miles)"
   ]
  },
  {
   "cell_type": "code",
   "execution_count": 4,
   "metadata": {},
   "outputs": [
    {
     "name": "stdout",
     "output_type": "stream",
     "text": [
      "Distance in kilometers: 5 Distance in miles: 3.106855\n"
     ]
    }
   ],
   "source": [
    "kilometers = 5\n",
    "\n",
    "miles = kilometers * 0.621371\n",
    "\n",
    "print(\"Distance in kilometers:\", kilometers, \"Distance in miles:\", miles)\n"
   ]
  },
  {
   "cell_type": "markdown",
   "metadata": {},
   "source": []
  }
 ],
 "metadata": {
  "kernelspec": {
   "display_name": "Python 3",
   "language": "python",
   "name": "python3"
  },
  "language_info": {
   "codemirror_mode": {
    "name": "ipython",
    "version": 3
   },
   "file_extension": ".py",
   "mimetype": "text/x-python",
   "name": "python",
   "nbconvert_exporter": "python",
   "pygments_lexer": "ipython3",
   "version": "3.7.6"
  }
 },
 "nbformat": 4,
 "nbformat_minor": 4
}
