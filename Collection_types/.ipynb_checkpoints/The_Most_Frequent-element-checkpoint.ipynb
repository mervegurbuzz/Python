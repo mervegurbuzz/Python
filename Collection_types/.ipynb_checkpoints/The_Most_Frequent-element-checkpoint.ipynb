{
 "cells": [
  {
   "cell_type": "markdown",
   "metadata": {},
   "source": [
    "Task : Find out the most frequent number and its frequency.\n",
    "\n",
    "Write a program that;\n",
    "\n",
    "Finds out the most frequent number in the given list.\n",
    "Calculates its frequency.\n",
    "Prints out the result such as :\n",
    "Example\n",
    "Given list\tDesired Output\n",
    "numbers = [1, 3, 7, 4, 3, 0, 3, 6, 3]\n",
    "the most frequent number is 3 and it was 4 times repeated"
   ]
  },
  {
   "cell_type": "code",
   "execution_count": 1,
   "metadata": {},
   "outputs": [
    {
     "name": "stdout",
     "output_type": "stream",
     "text": [
      "The most frequent number is 3 and it was 4 times repeated.\n"
     ]
    }
   ],
   "source": [
    "numbers = [1, 3, 7, 4, 3, 0, 3, 6, 3]\n",
    "item = max(numbers, key = numbers.count)\n",
    "\n",
    "repetition = numbers.count(item)\n",
    "print(f\"The most frequent number is {item} and it was {repetition} times repeated.\")"
   ]
  },
  {
   "cell_type": "code",
   "execution_count": null,
   "metadata": {},
   "outputs": [],
   "source": []
  }
 ],
 "metadata": {
  "kernelspec": {
   "display_name": "Python 3",
   "language": "python",
   "name": "python3"
  },
  "language_info": {
   "codemirror_mode": {
    "name": "ipython",
    "version": 3
   },
   "file_extension": ".py",
   "mimetype": "text/x-python",
   "name": "python",
   "nbconvert_exporter": "python",
   "pygments_lexer": "ipython3",
   "version": "3.7.6"
  }
 },
 "nbformat": 4,
 "nbformat_minor": 4
}
