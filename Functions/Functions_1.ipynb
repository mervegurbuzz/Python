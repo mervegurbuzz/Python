{
 "cells": [
  {
   "cell_type": "markdown",
   "metadata": {},
   "source": [
    "Given two integer values, return their sum. If the two values are the same, then return double their sum.\n",
    "\n",
    "\n",
    "\n",
    "\n",
    "For example:\n",
    "\n",
    "Test\tResult\n",
    "print(sum_double(1, 2))\n",
    "3\n",
    "print(sum_double(5, 7))\n",
    "12\n",
    "print(sum_double(5, 5))\n",
    "20"
   ]
  },
  {
   "cell_type": "code",
   "execution_count": 12,
   "metadata": {},
   "outputs": [
    {
     "name": "stdout",
     "output_type": "stream",
     "text": [
      "3\n",
      "20\n"
     ]
    }
   ],
   "source": [
    "def sum_double(x, y):\n",
    "    if x == y:\n",
    "        summ = 2*(x+y)\n",
    "    else:\n",
    "        summ = x+y\n",
    "    return summ\n",
    "\n",
    "    \n",
    "print(sum_double(1, 2))\n",
    "print(sum_double(5, 5))"
   ]
  },
  {
   "cell_type": "code",
   "execution_count": null,
   "metadata": {},
   "outputs": [],
   "source": []
  }
 ],
 "metadata": {
  "kernelspec": {
   "display_name": "Python 3",
   "language": "python",
   "name": "python3"
  },
  "language_info": {
   "codemirror_mode": {
    "name": "ipython",
    "version": 3
   },
   "file_extension": ".py",
   "mimetype": "text/x-python",
   "name": "python",
   "nbconvert_exporter": "python",
   "pygments_lexer": "ipython3",
   "version": "3.7.6"
  }
 },
 "nbformat": 4,
 "nbformat_minor": 4
}
